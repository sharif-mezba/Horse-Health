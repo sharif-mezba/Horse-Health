{
 "cells": [
  {
   "cell_type": "markdown",
   "metadata": {},
   "source": [
    "# Data connection"
   ]
  },
  {
   "cell_type": "markdown",
   "metadata": {},
   "source": [
    "## Import Libraries"
   ]
  },
  {
   "cell_type": "code",
   "execution_count": null,
   "metadata": {
    "execution": {
     "iopub.execute_input": "2023-10-02T13:54:48.403087Z",
     "iopub.status.busy": "2023-10-02T13:54:48.402710Z",
     "iopub.status.idle": "2023-10-02T13:54:51.177719Z",
     "shell.execute_reply": "2023-10-02T13:54:51.176601Z",
     "shell.execute_reply.started": "2023-10-02T13:54:48.403058Z"
    }
   },
   "outputs": [],
   "source": [
    "import pandas as pd\n",
    "import numpy as np\n",
    "import matplotlib.pyplot as plt\n",
    "import seaborn as sns\n",
    "from sklearn.impute import SimpleImputer\n",
    "from sklearn.preprocessing import LabelEncoder\n",
    "from scipy import stats\n",
    "from imblearn.under_sampling import RandomUnderSampler\n",
    "from imblearn.over_sampling import RandomOverSampler\n",
    "from sklearn.preprocessing import StandardScaler\n",
    "from sklearn.model_selection import train_test_split\n",
    "import lazypredict\n",
    "from lazypredict.Supervised import LazyClassifier\n",
    "from lightgbm import LGBMClassifier\n",
    "from sklearn.metrics import f1_score\n",
    "from sklearn.ensemble import RandomForestClassifier"
   ]
  },
  {
   "cell_type": "markdown",
   "metadata": {},
   "source": [
    "## Loading Training & Testing Data"
   ]
  },
  {
   "cell_type": "code",
   "execution_count": null,
   "metadata": {
    "execution": {
     "iopub.execute_input": "2023-10-02T13:54:54.447585Z",
     "iopub.status.busy": "2023-10-02T13:54:54.447186Z",
     "iopub.status.idle": "2023-10-02T13:54:54.479955Z",
     "shell.execute_reply": "2023-10-02T13:54:54.478863Z",
     "shell.execute_reply.started": "2023-10-02T13:54:54.447548Z"
    }
   },
   "outputs": [],
   "source": [
    "train_df = pd.read_csv(\"train.csv\")\n",
    "test_df = pd.read_csv(\"test.csv\")"
   ]
  },
  {
   "cell_type": "markdown",
   "metadata": {},
   "source": [
    "# Data Exploration"
   ]
  },
  {
   "cell_type": "code",
   "execution_count": null,
   "metadata": {
    "execution": {
     "iopub.execute_input": "2023-10-02T13:54:55.917940Z",
     "iopub.status.busy": "2023-10-02T13:54:55.917344Z",
     "iopub.status.idle": "2023-10-02T13:54:55.923342Z",
     "shell.execute_reply": "2023-10-02T13:54:55.922047Z",
     "shell.execute_reply.started": "2023-10-02T13:54:55.917910Z"
    }
   },
   "outputs": [],
   "source": [
    "print(train_df.shape)\n",
    "print(test_df.shape)"
   ]
  },
  {
   "cell_type": "code",
   "execution_count": null,
   "metadata": {
    "execution": {
     "iopub.execute_input": "2023-10-02T13:54:56.981046Z",
     "iopub.status.busy": "2023-10-02T13:54:56.980443Z",
     "iopub.status.idle": "2023-10-02T13:54:57.002287Z",
     "shell.execute_reply": "2023-10-02T13:54:57.000975Z",
     "shell.execute_reply.started": "2023-10-02T13:54:56.981017Z"
    }
   },
   "outputs": [],
   "source": [
    "# check train_df using head()\n",
    "train_df.head()"
   ]
  },
  {
   "cell_type": "code",
   "execution_count": null,
   "metadata": {
    "execution": {
     "iopub.execute_input": "2023-10-02T13:54:57.347184Z",
     "iopub.status.busy": "2023-10-02T13:54:57.346750Z",
     "iopub.status.idle": "2023-10-02T13:54:57.355903Z",
     "shell.execute_reply": "2023-10-02T13:54:57.354977Z",
     "shell.execute_reply.started": "2023-10-02T13:54:57.347152Z"
    }
   },
   "outputs": [],
   "source": [
    "train_df.shape"
   ]
  },
  {
   "cell_type": "code",
   "execution_count": null,
   "metadata": {
    "execution": {
     "iopub.execute_input": "2023-10-02T13:54:57.947786Z",
     "iopub.status.busy": "2023-10-02T13:54:57.947061Z",
     "iopub.status.idle": "2023-10-02T13:54:57.953963Z",
     "shell.execute_reply": "2023-10-02T13:54:57.953078Z",
     "shell.execute_reply.started": "2023-10-02T13:54:57.947748Z"
    }
   },
   "outputs": [],
   "source": [
    "# check the column names and total columns\n",
    "print(train_df.columns)\n",
    "print(len(train_df.columns))"
   ]
  },
  {
   "cell_type": "code",
   "execution_count": null,
   "metadata": {
    "execution": {
     "iopub.execute_input": "2023-10-02T13:54:58.362048Z",
     "iopub.status.busy": "2023-10-02T13:54:58.361503Z",
     "iopub.status.idle": "2023-10-02T13:54:58.375506Z",
     "shell.execute_reply": "2023-10-02T13:54:58.374677Z",
     "shell.execute_reply.started": "2023-10-02T13:54:58.362019Z"
    }
   },
   "outputs": [],
   "source": [
    "# check the info about the train_df\n",
    "train_df.info()"
   ]
  },
  {
   "cell_type": "code",
   "execution_count": null,
   "metadata": {
    "execution": {
     "iopub.execute_input": "2023-10-02T13:54:59.332321Z",
     "iopub.status.busy": "2023-10-02T13:54:59.331571Z",
     "iopub.status.idle": "2023-10-02T13:54:59.374098Z",
     "shell.execute_reply": "2023-10-02T13:54:59.372554Z",
     "shell.execute_reply.started": "2023-10-02T13:54:59.332288Z"
    }
   },
   "outputs": [],
   "source": [
    "# check the statistical data of the train_df\n",
    "train_df.describe()"
   ]
  },
  {
   "cell_type": "code",
   "execution_count": null,
   "metadata": {
    "execution": {
     "iopub.execute_input": "2023-10-02T13:55:00.321090Z",
     "iopub.status.busy": "2023-10-02T13:55:00.320716Z",
     "iopub.status.idle": "2023-10-02T13:55:00.326820Z",
     "shell.execute_reply": "2023-10-02T13:55:00.326073Z",
     "shell.execute_reply.started": "2023-10-02T13:55:00.321063Z"
    }
   },
   "outputs": [],
   "source": [
    "# check the unique values of label 'outcome'\n",
    "print(\"Unique values are: {}\".format(train_df['outcome'].unique()))\n",
    "print(\"Total unique values: {}\".format(train_df['outcome'].nunique()))"
   ]
  },
  {
   "cell_type": "code",
   "execution_count": null,
   "metadata": {
    "execution": {
     "iopub.execute_input": "2023-10-02T13:55:01.476096Z",
     "iopub.status.busy": "2023-10-02T13:55:01.475388Z",
     "iopub.status.idle": "2023-10-02T13:55:01.485136Z",
     "shell.execute_reply": "2023-10-02T13:55:01.484311Z",
     "shell.execute_reply.started": "2023-10-02T13:55:01.476067Z"
    }
   },
   "outputs": [],
   "source": [
    "# check the numerical & categorical columns\n",
    "cat_col = train_df.copy().drop(columns=['outcome']).select_dtypes(include=['object', 'bool']).columns.to_list()\n",
    "\n",
    "num_col = train_df.copy().select_dtypes(include='number').columns.to_list()\n",
    "\n",
    "print('Categorical Columns: {}\\n\\n'.format(cat_col))\n",
    "print('Numerical Columns: {}'.format(num_col))\n",
    "\n",
    "# # create separate numerical and categorical dataframe\n",
    "# cat_col_df = train_df[cat_col]\n",
    "# num_col_df = train_df[num_col]"
   ]
  },
  {
   "cell_type": "code",
   "execution_count": null,
   "metadata": {
    "execution": {
     "iopub.execute_input": "2023-10-02T13:55:02.920864Z",
     "iopub.status.busy": "2023-10-02T13:55:02.920176Z",
     "iopub.status.idle": "2023-10-02T13:55:02.924481Z",
     "shell.execute_reply": "2023-10-02T13:55:02.923442Z",
     "shell.execute_reply.started": "2023-10-02T13:55:02.920830Z"
    }
   },
   "outputs": [],
   "source": [
    "# # Plot the distribution of the \"outcome\" in train_df\n",
    "# plt.figure(figsize=(10, 5))\n",
    "# plt.subplot(1, 2, 1)\n",
    "# train_df['outcome'].value_counts().plot(kind='bar')\n",
    "# plt.title('Distribution of Outcome in Train Data')\n",
    "\n",
    "# plt.tight_layout()\n",
    "# plt.show()"
   ]
  },
  {
   "cell_type": "code",
   "execution_count": null,
   "metadata": {
    "execution": {
     "iopub.execute_input": "2023-10-02T13:55:03.964605Z",
     "iopub.status.busy": "2023-10-02T13:55:03.964223Z",
     "iopub.status.idle": "2023-10-02T13:55:03.969170Z",
     "shell.execute_reply": "2023-10-02T13:55:03.968410Z",
     "shell.execute_reply.started": "2023-10-02T13:55:03.964578Z"
    }
   },
   "outputs": [],
   "source": [
    "\n",
    "# # Separate the feature columns and the \"outcome\" column\n",
    "# X_train = train_df.copy().drop(columns=[\"outcome\"])\n",
    "# y_train = train_df[\"outcome\"]\n",
    "\n",
    "# # Under-sampling the \"outcome\" column\n",
    "# under_sampler = RandomUnderSampler(sampling_strategy='auto', random_state=42)\n",
    "# X_train_under, y_train_under = under_sampler.fit_resample(X_train, y_train)\n",
    "\n",
    "# # # Over-sampling the \"outcome\" column\n",
    "# # over_sampler = RandomOverSampler(sampling_strategy='auto', random_state=42)\n",
    "# # X_train_over, y_train_over = over_sampler.fit_resample(X_train, y_train)\n",
    "\n",
    "# # Create DataFrames with balanced \"outcome\" columns\n",
    "# under_sampled_df = pd.concat([X_train_under, y_train_under], axis=1)\n",
    "\n",
    "# # over_sampled_df = pd.concat([X_train_over, y_train_over], axis=1)"
   ]
  },
  {
   "cell_type": "code",
   "execution_count": null,
   "metadata": {
    "execution": {
     "iopub.execute_input": "2023-10-02T13:55:04.718582Z",
     "iopub.status.busy": "2023-10-02T13:55:04.717905Z",
     "iopub.status.idle": "2023-10-02T13:55:04.722461Z",
     "shell.execute_reply": "2023-10-02T13:55:04.721742Z",
     "shell.execute_reply.started": "2023-10-02T13:55:04.718546Z"
    }
   },
   "outputs": [],
   "source": [
    "# # Plot the distribution of the \"outcome\" in under_sampled_df\n",
    "# plt.figure(figsize=(10, 5))\n",
    "# plt.subplot(1, 2, 1)\n",
    "# under_sampled_df['outcome'].value_counts().plot(kind='bar')\n",
    "# plt.title('Distribution of Outcome in under_sampled_df')\n",
    "\n",
    "\n",
    "# # # Plot the distribution of the \"outcome\" in over_sampled_df\n",
    "# # plt.figure(figsize=(10, 5))\n",
    "# # plt.subplot(1, 2, 1)\n",
    "# # over_sampled_df['outcome'].value_counts().plot(kind='bar')\n",
    "# # plt.title('Distribution of Outcome in over_sampled_df')\n",
    "\n",
    "# plt.tight_layout()\n",
    "# plt.show()"
   ]
  },
  {
   "cell_type": "code",
   "execution_count": null,
   "metadata": {
    "execution": {
     "iopub.execute_input": "2023-10-02T13:55:05.319422Z",
     "iopub.status.busy": "2023-10-02T13:55:05.318711Z",
     "iopub.status.idle": "2023-10-02T13:55:05.323345Z",
     "shell.execute_reply": "2023-10-02T13:55:05.322618Z",
     "shell.execute_reply.started": "2023-10-02T13:55:05.319349Z"
    }
   },
   "outputs": [],
   "source": [
    "# train_df = under_sampled_df.copy()"
   ]
  },
  {
   "cell_type": "code",
   "execution_count": null,
   "metadata": {
    "execution": {
     "iopub.execute_input": "2023-10-02T13:55:05.859292Z",
     "iopub.status.busy": "2023-10-02T13:55:05.858477Z",
     "iopub.status.idle": "2023-10-02T13:55:44.574296Z",
     "shell.execute_reply": "2023-10-02T13:55:44.573220Z",
     "shell.execute_reply.started": "2023-10-02T13:55:05.859258Z"
    }
   },
   "outputs": [],
   "source": [
    "# List of columns\n",
    "columns = train_df.copy().drop(columns='outcome').columns.to_list()\n",
    "\n",
    "# create histograms for 'outcome' vs each of the other columns\n",
    "for column in columns:\n",
    "    plt.figure(figsize=(7, 3))\n",
    "    sns.histplot(data=train_df, x=column, hue='outcome', kde=True)\n",
    "    plt.title(f'{column} vs outcome')\n",
    "    plt.xlabel(column)\n",
    "    plt.ylabel('Count')\n",
    "    plt.show()"
   ]
  },
  {
   "cell_type": "code",
   "execution_count": null,
   "metadata": {
    "execution": {
     "iopub.execute_input": "2023-10-02T13:55:52.518121Z",
     "iopub.status.busy": "2023-10-02T13:55:52.517733Z",
     "iopub.status.idle": "2023-10-02T13:56:03.997635Z",
     "shell.execute_reply": "2023-10-02T13:56:03.995821Z",
     "shell.execute_reply.started": "2023-10-02T13:55:52.518091Z"
    }
   },
   "outputs": [],
   "source": [
    "# Check distribution of column data. we have numerical col names in num_col variable\n",
    "\n",
    "plt.figure(figsize=(20, 35))\n",
    "#columns = train_df.columns.tolist()\n",
    "\n",
    "for i, column in enumerate(num_col, 1):\n",
    "    plt.subplot(7, 2, i)\n",
    "    sns.histplot(train_df[column], color=\"green\", kde=True)\n",
    "    plt.title(f'Distribution of {column}')\n",
    "    plt.ylim()\n",
    "\n",
    "plt.tight_layout()\n",
    "plt.show()\n",
    "\n",
    "print(num_col)"
   ]
  },
  {
   "cell_type": "code",
   "execution_count": null,
   "metadata": {
    "execution": {
     "iopub.execute_input": "2023-10-02T13:56:03.999890Z",
     "iopub.status.busy": "2023-10-02T13:56:03.999566Z",
     "iopub.status.idle": "2023-10-02T13:56:04.010422Z",
     "shell.execute_reply": "2023-10-02T13:56:04.008948Z",
     "shell.execute_reply.started": "2023-10-02T13:56:03.999863Z"
    }
   },
   "outputs": [],
   "source": [
    "# apply log transformation to the columns that are right skewed\n",
    "# column_skew = ['hospital_number', 'pulse', 'respiratory_rate', 'total_protein', 'abdomo_protein', \n",
    "#                'lesion_1', 'lesion_2', 'lesion_3' ]\n",
    "\n",
    "column_skew = [ 'pulse', 'respiratory_rate', 'total_protein', 'abdomo_protein']\n",
    "\n",
    "for value in column_skew:\n",
    "    train_df[value] = np.log(1+train_df[value])\n",
    "    test_df[value]= np.log(1+test_df[value])\n",
    "\n",
    "    \n",
    "# plt.figure(figsize=(20, 35))\n",
    "# #columns = train_df.columns.tolist()\n",
    "\n",
    "# for i, column in enumerate(num_col, 1):\n",
    "#     plt.subplot(7, 2, i)\n",
    "#     sns.histplot(train_df[column], color=\"green\", kde=True)\n",
    "#     plt.title(f'Distribution of {column}')\n",
    "#     plt.ylim()\n",
    "\n",
    "# plt.tight_layout()\n",
    "# plt.show()"
   ]
  },
  {
   "cell_type": "code",
   "execution_count": null,
   "metadata": {
    "execution": {
     "iopub.execute_input": "2023-10-02T13:56:04.012196Z",
     "iopub.status.busy": "2023-10-02T13:56:04.011877Z",
     "iopub.status.idle": "2023-10-02T13:56:04.040901Z",
     "shell.execute_reply": "2023-10-02T13:56:04.039387Z",
     "shell.execute_reply.started": "2023-10-02T13:56:04.012170Z"
    }
   },
   "outputs": [],
   "source": [
    "\n",
    "\n",
    "# Define the columns you want to apply the Box-Cox transformation to\n",
    "columns_to_transform = ['hospital_number', 'lesion_1', 'lesion_2', 'lesion_3']  \n",
    "\n",
    "# # Create a new DataFrame to store the transformed data\n",
    "# transformed_df = train_df.copy()\n",
    "\n",
    "# Apply the Box-Cox transformation to each specified column\n",
    "for column in columns_to_transform:\n",
    "    # Add a small constant to handle zero and negative values if necessary\n",
    "    train_df[column] = stats.boxcox(train_df[column] + 1)[0]"
   ]
  },
  {
   "cell_type": "code",
   "execution_count": null,
   "metadata": {
    "execution": {
     "iopub.execute_input": "2023-10-02T13:56:06.558645Z",
     "iopub.status.busy": "2023-10-02T13:56:06.558028Z",
     "iopub.status.idle": "2023-10-02T13:56:11.659473Z",
     "shell.execute_reply": "2023-10-02T13:56:11.658283Z",
     "shell.execute_reply.started": "2023-10-02T13:56:06.558616Z"
    }
   },
   "outputs": [],
   "source": [
    "plt.figure(figsize=(20, 35))\n",
    "#columns = train_df.columns.tolist()\n",
    "\n",
    "for i, column in enumerate(num_col, 1):\n",
    "    plt.subplot(7, 2, i)\n",
    "    sns.histplot(train_df[column], color=\"green\", kde=True)\n",
    "    plt.title(f'Distribution of {column}')\n",
    "    plt.ylim()\n",
    "\n",
    "plt.tight_layout()\n",
    "plt.show()"
   ]
  },
  {
   "cell_type": "code",
   "execution_count": null,
   "metadata": {
    "execution": {
     "iopub.execute_input": "2023-10-02T13:56:14.620149Z",
     "iopub.status.busy": "2023-10-02T13:56:14.618158Z",
     "iopub.status.idle": "2023-10-02T13:56:14.631970Z",
     "shell.execute_reply": "2023-10-02T13:56:14.630153Z",
     "shell.execute_reply.started": "2023-10-02T13:56:14.620074Z"
    }
   },
   "outputs": [],
   "source": [
    "# drop hospital_number, lesion_2 and lesion_3\n",
    "train_df = train_df.copy().drop(columns=['lesion_2', 'lesion_3', 'hospital_number'])\n",
    "test_df = test_df.copy().drop(columns=['lesion_2', 'lesion_3', 'hospital_number'])\n",
    "\n",
    "#update num_col list\n",
    "columns_to_remove = ['lesion_2', 'lesion_3', 'hospital_number']\n",
    "num_col = [col for col in num_col if col not in columns_to_remove]\n",
    "print(num_col)"
   ]
  },
  {
   "cell_type": "markdown",
   "metadata": {},
   "source": [
    "# Dealing with Missing Data"
   ]
  },
  {
   "cell_type": "code",
   "execution_count": null,
   "metadata": {
    "execution": {
     "iopub.execute_input": "2023-10-02T13:56:16.787001Z",
     "iopub.status.busy": "2023-10-02T13:56:16.786622Z",
     "iopub.status.idle": "2023-10-02T13:56:16.822928Z",
     "shell.execute_reply": "2023-10-02T13:56:16.821460Z",
     "shell.execute_reply.started": "2023-10-02T13:56:16.786966Z"
    }
   },
   "outputs": [],
   "source": [
    "print(train_df.isna().sum())\n",
    "train_df"
   ]
  },
  {
   "cell_type": "code",
   "execution_count": null,
   "metadata": {
    "execution": {
     "iopub.execute_input": "2023-10-02T13:56:17.798577Z",
     "iopub.status.busy": "2023-10-02T13:56:17.798160Z",
     "iopub.status.idle": "2023-10-02T13:56:17.813401Z",
     "shell.execute_reply": "2023-10-02T13:56:17.812178Z",
     "shell.execute_reply.started": "2023-10-02T13:56:17.798545Z"
    }
   },
   "outputs": [],
   "source": [
    "# percentage of missing values per column\n",
    "\n",
    "missing_percentage = (train_df.isnull().sum() / len(train_df)) * 100\n",
    "\n",
    "missing_df = pd.DataFrame({'Missing Percentage': missing_percentage})\n",
    "missing_df"
   ]
  },
  {
   "cell_type": "code",
   "execution_count": null,
   "metadata": {
    "execution": {
     "iopub.execute_input": "2023-10-02T13:56:19.278377Z",
     "iopub.status.busy": "2023-10-02T13:56:19.277957Z",
     "iopub.status.idle": "2023-10-02T13:56:19.328608Z",
     "shell.execute_reply": "2023-10-02T13:56:19.327331Z",
     "shell.execute_reply.started": "2023-10-02T13:56:19.278332Z"
    }
   },
   "outputs": [],
   "source": [
    "def fill_missing_values(df):\n",
    "    \n",
    "    # To fill categorical features. \n",
    "    imputer1 = SimpleImputer(strategy=\"most_frequent\") \n",
    "    \n",
    "    # To fill numercial features.\n",
    "    imputer2 = SimpleImputer(strategy=\"median\")\n",
    "    \n",
    "    df[cat_col] = imputer1.fit_transform(df[cat_col]) \n",
    "    df[num_col] = imputer2.fit_transform(df[num_col])\n",
    "\n",
    "# use the function to fill the missing values    \n",
    "fill_missing_values(train_df) \n",
    "fill_missing_values(test_df)\n",
    "\n",
    "# check again the missing values\n",
    "print(\"Missing numbers left in train_df is:\",train_df.isnull().sum().sum()) \n",
    "print(\"Missing numbers left in test_df is:\",test_df.isnull().sum().sum())"
   ]
  },
  {
   "cell_type": "code",
   "execution_count": null,
   "metadata": {
    "execution": {
     "iopub.execute_input": "2023-10-02T13:56:20.623075Z",
     "iopub.status.busy": "2023-10-02T13:56:20.622694Z",
     "iopub.status.idle": "2023-10-02T13:56:20.641694Z",
     "shell.execute_reply": "2023-10-02T13:56:20.640178Z",
     "shell.execute_reply.started": "2023-10-02T13:56:20.623045Z"
    }
   },
   "outputs": [],
   "source": [
    "print(\"Duplicate values in training data is: \",train_df.duplicated().sum()) \n",
    "print(\"Duplicate values in testing data is: \",test_df.duplicated().sum())"
   ]
  },
  {
   "cell_type": "code",
   "execution_count": null,
   "metadata": {
    "execution": {
     "iopub.execute_input": "2023-10-02T13:56:22.058736Z",
     "iopub.status.busy": "2023-10-02T13:56:22.058319Z",
     "iopub.status.idle": "2023-10-02T13:56:22.077342Z",
     "shell.execute_reply": "2023-10-02T13:56:22.075933Z",
     "shell.execute_reply.started": "2023-10-02T13:56:22.058707Z"
    }
   },
   "outputs": [],
   "source": [
    "print(\"Cardinality of features in numerical data is: \") \n",
    "print(train_df.select_dtypes(include=[\"object\"]).nunique()) \n",
    "print(\"\\n\",\"-\"*50)\n",
    "print(\"\\nCardinality of features in categorical data is: \") \n",
    "print(test_df.select_dtypes(include=[\"object\"]).nunique())"
   ]
  },
  {
   "cell_type": "code",
   "execution_count": null,
   "metadata": {
    "execution": {
     "iopub.execute_input": "2023-10-02T13:56:23.064810Z",
     "iopub.status.busy": "2023-10-02T13:56:23.064448Z",
     "iopub.status.idle": "2023-10-02T13:56:23.077772Z",
     "shell.execute_reply": "2023-10-02T13:56:23.076429Z",
     "shell.execute_reply.started": "2023-10-02T13:56:23.064785Z"
    }
   },
   "outputs": [],
   "source": [
    "print(train_df.head())"
   ]
  },
  {
   "cell_type": "code",
   "execution_count": null,
   "metadata": {
    "execution": {
     "iopub.execute_input": "2023-10-02T13:56:24.222541Z",
     "iopub.status.busy": "2023-10-02T13:56:24.221854Z",
     "iopub.status.idle": "2023-10-02T13:56:24.228409Z",
     "shell.execute_reply": "2023-10-02T13:56:24.227533Z",
     "shell.execute_reply.started": "2023-10-02T13:56:24.222510Z"
    }
   },
   "outputs": [],
   "source": [
    "# # change data types to boolean\n",
    "# bool_col = ['surgery', 'surgical_lesion', 'cp_data']\n",
    "# train_df[bool_col] = train_df[bool_col].astype(bool)\n",
    "\n",
    "# define ordinal and nominal categorical column\n",
    "ordinal_cat_col = ['age', 'temp_of_extremities', 'peripheral_pulse', 'capillary_refill_time', 'rectal_exam_feces', 'abdomen']\n",
    "nominal_cat_col = [item for item in cat_col if item not in ordinal_cat_col]\n",
    "\n",
    "print(\"Nominal Categorical Columns: \", nominal_cat_col, \"\\n\\n\")\n",
    "print(\"Ordinal Categorical Columns: \", ordinal_cat_col, \"\\n\\n\")\n",
    "# print(\"Boolean Columns: \", bool_col)"
   ]
  },
  {
   "cell_type": "markdown",
   "metadata": {},
   "source": [
    "# Encoding "
   ]
  },
  {
   "cell_type": "code",
   "execution_count": null,
   "metadata": {
    "execution": {
     "iopub.execute_input": "2023-10-02T13:56:25.674590Z",
     "iopub.status.busy": "2023-10-02T13:56:25.673854Z",
     "iopub.status.idle": "2023-10-02T13:56:25.688808Z",
     "shell.execute_reply": "2023-10-02T13:56:25.687831Z",
     "shell.execute_reply.started": "2023-10-02T13:56:25.674559Z"
    }
   },
   "outputs": [],
   "source": [
    "# apply label encoder to ordinal_cat_col\n",
    "enc = LabelEncoder()\n",
    "\n",
    "train_df[ordinal_cat_col]=train_df[ordinal_cat_col].apply(enc.fit_transform)\n",
    "test_df[ordinal_cat_col]=test_df[ordinal_cat_col].apply(enc.fit_transform)"
   ]
  },
  {
   "cell_type": "code",
   "execution_count": null,
   "metadata": {
    "execution": {
     "iopub.execute_input": "2023-10-02T13:56:26.921346Z",
     "iopub.status.busy": "2023-10-02T13:56:26.920584Z",
     "iopub.status.idle": "2023-10-02T13:56:26.947838Z",
     "shell.execute_reply": "2023-10-02T13:56:26.946451Z",
     "shell.execute_reply.started": "2023-10-02T13:56:26.921312Z"
    }
   },
   "outputs": [],
   "source": [
    "# apply one hot encoding to nominal_cat_col\n",
    "train_df = pd.get_dummies(train_df, columns = nominal_cat_col, drop_first = True) \n",
    "test_df = pd.get_dummies(test_df, columns= nominal_cat_col, drop_first = True)"
   ]
  },
  {
   "cell_type": "code",
   "execution_count": null,
   "metadata": {
    "execution": {
     "iopub.execute_input": "2023-10-02T13:56:27.951279Z",
     "iopub.status.busy": "2023-10-02T13:56:27.950482Z",
     "iopub.status.idle": "2023-10-02T13:56:27.959968Z",
     "shell.execute_reply": "2023-10-02T13:56:27.958612Z",
     "shell.execute_reply.started": "2023-10-02T13:56:27.951236Z"
    }
   },
   "outputs": [],
   "source": [
    "# Use the replace function to replace values in the 'outcome' column\n",
    "train_df['outcome'].replace({'died': 0, 'euthanized': 1, 'lived': 2}, inplace=True)"
   ]
  },
  {
   "cell_type": "markdown",
   "metadata": {},
   "source": [
    "* After encoding 'pain_moderate' column is missing in train_df and ['nasogastric_reflux_slight', 'pain_slight', 'peristalsis_distend_small', 'rectal_exam_feces_4'] these column missing in train_df. "
   ]
  },
  {
   "cell_type": "code",
   "execution_count": null,
   "metadata": {
    "execution": {
     "iopub.execute_input": "2023-10-02T13:56:29.520093Z",
     "iopub.status.busy": "2023-10-02T13:56:29.519742Z",
     "iopub.status.idle": "2023-10-02T13:56:29.531560Z",
     "shell.execute_reply": "2023-10-02T13:56:29.530338Z",
     "shell.execute_reply.started": "2023-10-02T13:56:29.520067Z"
    }
   },
   "outputs": [],
   "source": [
    "# drop 'pain_moderate' in train_df\n",
    "test_df = test_df.drop(columns=['pain_moderate'])\n",
    "\n",
    "# drop ['nasogastric_reflux_slight', 'pain_slight', 'peristalsis_distend_small', 'rectal_exam_feces_4'] in test_df\n",
    "train_df = train_df.drop(columns = ['nasogastric_reflux_slight', 'pain_slight', 'peristalsis_distend_small'])"
   ]
  },
  {
   "cell_type": "markdown",
   "metadata": {},
   "source": [
    "# Split Dataset"
   ]
  },
  {
   "cell_type": "code",
   "execution_count": null,
   "metadata": {
    "execution": {
     "iopub.execute_input": "2023-10-02T13:56:52.607355Z",
     "iopub.status.busy": "2023-10-02T13:56:52.606955Z",
     "iopub.status.idle": "2023-10-02T13:56:52.626031Z",
     "shell.execute_reply": "2023-10-02T13:56:52.624924Z",
     "shell.execute_reply.started": "2023-10-02T13:56:52.607326Z"
    }
   },
   "outputs": [],
   "source": [
    "# Separate the feature columns and the \"outcome\" column\n",
    "X = train_df.copy().drop(columns=[\"id\", \"outcome\"])\n",
    "y = train_df[\"outcome\"]\n",
    "\n",
    "# Under-sampling the \"outcome\" column\n",
    "under_sampler = RandomUnderSampler(sampling_strategy='auto', random_state=42)\n",
    "X, y = under_sampler.fit_resample(X, y)"
   ]
  },
  {
   "cell_type": "code",
   "execution_count": null,
   "metadata": {
    "execution": {
     "iopub.execute_input": "2023-10-02T13:56:54.120512Z",
     "iopub.status.busy": "2023-10-02T13:56:54.120007Z",
     "iopub.status.idle": "2023-10-02T13:56:54.135233Z",
     "shell.execute_reply": "2023-10-02T13:56:54.134342Z",
     "shell.execute_reply.started": "2023-10-02T13:56:54.120472Z"
    }
   },
   "outputs": [],
   "source": [
    "# define input features and label \n",
    "# X = train_df.copy().drop(columns=['id', 'outcome'])\n",
    "# y = train_df['outcome']\n",
    "\n",
    "X_train, X_temp, y_train, y_temp = train_test_split(X, y, test_size=0.3, stratify=y, random_state=42)\n",
    "\n",
    "X_test = test_df.drop(columns=['id'])\n"
   ]
  },
  {
   "cell_type": "markdown",
   "metadata": {},
   "source": [
    "#  Feature Scaling"
   ]
  },
  {
   "cell_type": "code",
   "execution_count": null,
   "metadata": {
    "execution": {
     "iopub.execute_input": "2023-10-02T13:56:56.321498Z",
     "iopub.status.busy": "2023-10-02T13:56:56.320924Z",
     "iopub.status.idle": "2023-10-02T13:56:56.351980Z",
     "shell.execute_reply": "2023-10-02T13:56:56.350152Z",
     "shell.execute_reply.started": "2023-10-02T13:56:56.321470Z"
    }
   },
   "outputs": [],
   "source": [
    "X_train"
   ]
  },
  {
   "cell_type": "code",
   "execution_count": null,
   "metadata": {
    "execution": {
     "iopub.execute_input": "2023-10-02T13:56:57.408556Z",
     "iopub.status.busy": "2023-10-02T13:56:57.408095Z",
     "iopub.status.idle": "2023-10-02T13:56:57.435436Z",
     "shell.execute_reply": "2023-10-02T13:56:57.434379Z",
     "shell.execute_reply.started": "2023-10-02T13:56:57.408524Z"
    }
   },
   "outputs": [],
   "source": [
    "X_test"
   ]
  },
  {
   "cell_type": "code",
   "execution_count": null,
   "metadata": {
    "execution": {
     "iopub.execute_input": "2023-10-02T13:56:58.463529Z",
     "iopub.status.busy": "2023-10-02T13:56:58.462813Z",
     "iopub.status.idle": "2023-10-02T13:56:58.467384Z",
     "shell.execute_reply": "2023-10-02T13:56:58.466495Z",
     "shell.execute_reply.started": "2023-10-02T13:56:58.463498Z"
    }
   },
   "outputs": [],
   "source": [
    "# y_train"
   ]
  },
  {
   "cell_type": "code",
   "execution_count": null,
   "metadata": {
    "execution": {
     "iopub.execute_input": "2023-10-02T13:56:59.376661Z",
     "iopub.status.busy": "2023-10-02T13:56:59.376282Z",
     "iopub.status.idle": "2023-10-02T13:56:59.395415Z",
     "shell.execute_reply": "2023-10-02T13:56:59.393559Z",
     "shell.execute_reply.started": "2023-10-02T13:56:59.376635Z"
    }
   },
   "outputs": [],
   "source": [
    "# initiate standard scaler\n",
    "sc = StandardScaler()\n",
    "\n",
    "X_train = sc.fit_transform(X_train)\n",
    "X_temp = sc.transform(X_temp)"
   ]
  },
  {
   "cell_type": "markdown",
   "metadata": {},
   "source": [
    "# Model Selection"
   ]
  },
  {
   "cell_type": "code",
   "execution_count": null,
   "metadata": {
    "execution": {
     "iopub.execute_input": "2023-10-02T13:57:01.502253Z",
     "iopub.status.busy": "2023-10-02T13:57:01.501875Z",
     "iopub.status.idle": "2023-10-02T13:57:01.514405Z",
     "shell.execute_reply": "2023-10-02T13:57:01.513120Z",
     "shell.execute_reply.started": "2023-10-02T13:57:01.502227Z"
    }
   },
   "outputs": [],
   "source": [
    "lazypredict.Supervised.CLASSIFIERS"
   ]
  },
  {
   "cell_type": "code",
   "execution_count": null,
   "metadata": {
    "execution": {
     "iopub.execute_input": "2023-10-02T13:57:02.750268Z",
     "iopub.status.busy": "2023-10-02T13:57:02.749840Z",
     "iopub.status.idle": "2023-10-02T13:57:07.547616Z",
     "shell.execute_reply": "2023-10-02T13:57:07.546565Z",
     "shell.execute_reply.started": "2023-10-02T13:57:02.750238Z"
    }
   },
   "outputs": [],
   "source": [
    "clf = LazyClassifier(verbose= 1,ignore_warnings=True, custom_metric= None)\n",
    "models, predictions = clf.fit(X_train, X_temp, y_train, y_temp)\n",
    "models"
   ]
  },
  {
   "cell_type": "code",
   "execution_count": null,
   "metadata": {
    "execution": {
     "iopub.execute_input": "2023-10-02T13:57:10.501245Z",
     "iopub.status.busy": "2023-10-02T13:57:10.500893Z",
     "iopub.status.idle": "2023-10-02T13:57:11.690327Z",
     "shell.execute_reply": "2023-10-02T13:57:11.689377Z",
     "shell.execute_reply.started": "2023-10-02T13:57:10.501220Z"
    }
   },
   "outputs": [],
   "source": [
    "# Initialize the LGBMClassifier model\n",
    "lgbm_model = LGBMClassifier()\n",
    "\n",
    "# Fit (train) the model on the training data\n",
    "lgbm_model.fit(X_train, y_train)\n",
    "\n",
    "# Make predictions on the testing data\n",
    "y_pred = lgbm_model.predict(X_temp)\n",
    "\n",
    "# Calculate the micro-average F1 score\n",
    "micro_f1 = f1_score(y_temp, y_pred, average='micro')\n",
    "\n",
    "print(\"Micro-average F1 Score:\", micro_f1)"
   ]
  },
  {
   "cell_type": "code",
   "execution_count": null,
   "metadata": {
    "execution": {
     "iopub.execute_input": "2023-10-02T13:57:26.225950Z",
     "iopub.status.busy": "2023-10-02T13:57:26.225552Z",
     "iopub.status.idle": "2023-10-02T13:57:26.457291Z",
     "shell.execute_reply": "2023-10-02T13:57:26.456058Z",
     "shell.execute_reply.started": "2023-10-02T13:57:26.225922Z"
    }
   },
   "outputs": [],
   "source": [
    "# Initialize the RandomForest model\n",
    "rf = RandomForestClassifier()\n",
    "\n",
    "# Fit (train) the model on the training data\n",
    "rf.fit(X_train, y_train)\n",
    "\n",
    "# Make predictions on the testing data\n",
    "y_pred = rf.predict(X_temp)\n",
    "\n",
    "# Calculate the micro-average F1 score\n",
    "micro_f1 = f1_score(y_temp, y_pred, average='micro')\n",
    "\n",
    "print(\"Micro-average F1 Score:\", micro_f1)"
   ]
  },
  {
   "cell_type": "code",
   "execution_count": null,
   "metadata": {
    "execution": {
     "iopub.execute_input": "2023-10-02T13:57:55.951034Z",
     "iopub.status.busy": "2023-10-02T13:57:55.950659Z",
     "iopub.status.idle": "2023-10-02T13:57:55.972618Z",
     "shell.execute_reply": "2023-10-02T13:57:55.971175Z",
     "shell.execute_reply.started": "2023-10-02T13:57:55.951007Z"
    }
   },
   "outputs": [],
   "source": [
    "# train the model on full data\n",
    "sc2 = StandardScaler()\n",
    "X_train = X\n",
    "y_train = y\n",
    "\n",
    "X_train = sc2.fit_transform(X_train)\n",
    "X_test = sc2.transform(X_test)"
   ]
  },
  {
   "cell_type": "code",
   "execution_count": null,
   "metadata": {
    "execution": {
     "iopub.execute_input": "2023-10-02T13:57:57.238223Z",
     "iopub.status.busy": "2023-10-02T13:57:57.237850Z",
     "iopub.status.idle": "2023-10-02T13:57:57.504205Z",
     "shell.execute_reply": "2023-10-02T13:57:57.503265Z",
     "shell.execute_reply.started": "2023-10-02T13:57:57.238197Z"
    }
   },
   "outputs": [],
   "source": [
    "# fit and predict with full train data with random forest because it gives better result\n",
    "\n",
    "rf.fit(X_train, y_train)\n",
    "\n",
    "# Make predictions on the testing data\n",
    "y_pred = rf.predict(X_test)"
   ]
  },
  {
   "cell_type": "code",
   "execution_count": null,
   "metadata": {
    "execution": {
     "iopub.execute_input": "2023-10-02T13:57:58.670424Z",
     "iopub.status.busy": "2023-10-02T13:57:58.670010Z",
     "iopub.status.idle": "2023-10-02T13:57:58.679190Z",
     "shell.execute_reply": "2023-10-02T13:57:58.678081Z",
     "shell.execute_reply.started": "2023-10-02T13:57:58.670393Z"
    }
   },
   "outputs": [],
   "source": [
    "y_pred"
   ]
  },
  {
   "cell_type": "code",
   "execution_count": null,
   "metadata": {
    "execution": {
     "iopub.execute_input": "2023-10-02T13:57:59.680009Z",
     "iopub.status.busy": "2023-10-02T13:57:59.679246Z",
     "iopub.status.idle": "2023-10-02T13:57:59.689209Z",
     "shell.execute_reply": "2023-10-02T13:57:59.688431Z",
     "shell.execute_reply.started": "2023-10-02T13:57:59.679977Z"
    }
   },
   "outputs": [],
   "source": [
    "# Create a dictionary for mapping\n",
    "outcome_mapping = {0: 'died', 1: 'euthanized', 2: 'lived'}\n",
    "\n",
    "# Convert the numeric predictions in y_pred to their corresponding labels\n",
    "outcome_labels = [outcome_mapping[pred] for pred in y_pred]\n",
    "\n",
    "# Create the 'submission' DataFrame\n",
    "submission = pd.DataFrame({'id': test_df['id'].astype(int), 'outcome': outcome_labels})\n",
    "\n",
    "# Display the 'submission' DataFrame\n",
    "print(submission) "
   ]
  },
  {
   "cell_type": "code",
   "execution_count": null,
   "metadata": {
    "execution": {
     "iopub.execute_input": "2023-10-02T13:58:01.178756Z",
     "iopub.status.busy": "2023-10-02T13:58:01.178018Z",
     "iopub.status.idle": "2023-10-02T13:58:01.187254Z",
     "shell.execute_reply": "2023-10-02T13:58:01.185783Z",
     "shell.execute_reply.started": "2023-10-02T13:58:01.178724Z"
    }
   },
   "outputs": [],
   "source": [
    "# Save the 'submission' DataFrame to a CSV file\n",
    "submission.to_csv('submission.csv', index=False)"
   ]
  },
  {
   "cell_type": "code",
   "execution_count": null,
   "metadata": {
    "execution": {
     "iopub.execute_input": "2023-10-02T13:58:02.537223Z",
     "iopub.status.busy": "2023-10-02T13:58:02.536880Z",
     "iopub.status.idle": "2023-10-02T13:58:02.814402Z",
     "shell.execute_reply": "2023-10-02T13:58:02.813005Z",
     "shell.execute_reply.started": "2023-10-02T13:58:02.537198Z"
    }
   },
   "outputs": [],
   "source": [
    "# Count the occurrences of each category in the 'outcome' column\n",
    "outcome_counts = submission['outcome'].value_counts()\n",
    "\n",
    "# Create a bar plot\n",
    "outcome_counts.plot(kind='bar', rot=0)\n",
    "plt.xlabel('Outcome')\n",
    "plt.ylabel('Count')\n",
    "plt.title('Distribution of Outcomes')\n",
    "plt.show()"
   ]
  },
  {
   "cell_type": "code",
   "execution_count": null,
   "metadata": {},
   "outputs": [],
   "source": []
  }
 ],
 "metadata": {
  "kernelspec": {
   "display_name": "Python 3 (ipykernel)",
   "language": "python",
   "name": "python3"
  },
  "language_info": {
   "codemirror_mode": {
    "name": "ipython",
    "version": 3
   },
   "file_extension": ".py",
   "mimetype": "text/x-python",
   "name": "python",
   "nbconvert_exporter": "python",
   "pygments_lexer": "ipython3",
   "version": "3.9.7"
  }
 },
 "nbformat": 4,
 "nbformat_minor": 4
}
